{
 "cells": [
  {
   "cell_type": "code",
   "execution_count": 1,
   "metadata": {},
   "outputs": [],
   "source": [
    "import requests\n",
    "import numpy as np\n",
    "import pandas as pd\n",
    "import ast\n",
    "import datetime"
   ]
  },
  {
   "cell_type": "code",
   "execution_count": 2,
   "metadata": {},
   "outputs": [],
   "source": [
    "url = \"https://earthquake.usgs.gov/fdsnws/event/1/query?format=csv&starttime=2023-01-01&endtime=2023-06-28&minmagnitude=5\""
   ]
  },
  {
   "cell_type": "code",
   "execution_count": 3,
   "metadata": {},
   "outputs": [],
   "source": [
    "url = 'https://earthquake.usgs.gov/fdsnws/event/1/query'\n",
    "parameters = {\n",
    "    'format': 'geojson',\n",
    "    'starttime': '1990-01-01',\n",
    "    'endtime': '2023-06-28',\n",
    "    'minmagnitude': '2.5',\n",
    "    'minlatitude': '-5.266',\n",
    "    'maxlatitude': '15.708',\n",
    "    'minlongitude': '276.328',\n",
    "    'maxlongitude': '293.906',\n",
    "    'limit': 20000\n",
    "}\n"
   ]
  },
  {
   "cell_type": "code",
   "execution_count": 4,
   "metadata": {},
   "outputs": [],
   "source": [
    "response = requests.get(url, params=parameters)"
   ]
  },
  {
   "cell_type": "code",
   "execution_count": 13,
   "metadata": {},
   "outputs": [
    {
     "data": {
      "text/plain": [
       "dict_keys(['type', 'metadata', 'features', 'bbox'])"
      ]
     },
     "execution_count": 13,
     "metadata": {},
     "output_type": "execute_result"
    }
   ],
   "source": [
    "response.json().keys()"
   ]
  },
  {
   "cell_type": "code",
   "execution_count": 21,
   "metadata": {},
   "outputs": [
    {
     "data": {
      "text/html": [
       "<div>\n",
       "<style scoped>\n",
       "    .dataframe tbody tr th:only-of-type {\n",
       "        vertical-align: middle;\n",
       "    }\n",
       "\n",
       "    .dataframe tbody tr th {\n",
       "        vertical-align: top;\n",
       "    }\n",
       "\n",
       "    .dataframe thead th {\n",
       "        text-align: right;\n",
       "    }\n",
       "</style>\n",
       "<table border=\"1\" class=\"dataframe\">\n",
       "  <thead>\n",
       "    <tr style=\"text-align: right;\">\n",
       "      <th></th>\n",
       "      <th>type</th>\n",
       "      <th>properties</th>\n",
       "      <th>geometry</th>\n",
       "      <th>id</th>\n",
       "    </tr>\n",
       "  </thead>\n",
       "  <tbody>\n",
       "    <tr>\n",
       "      <th>0</th>\n",
       "      <td>Feature</td>\n",
       "      <td>{'mag': 5.1, 'place': 'near the coast of Ecuad...</td>\n",
       "      <td>{'type': 'Point', 'coordinates': [-79.9936, 0....</td>\n",
       "      <td>us6000knee</td>\n",
       "    </tr>\n",
       "    <tr>\n",
       "      <th>1</th>\n",
       "      <td>Feature</td>\n",
       "      <td>{'mag': 4.5, 'place': 'northern Colombia', 'ti...</td>\n",
       "      <td>{'type': 'Point', 'coordinates': [-73.1563, 6....</td>\n",
       "      <td>us6000kndk</td>\n",
       "    </tr>\n",
       "    <tr>\n",
       "      <th>2</th>\n",
       "      <td>Feature</td>\n",
       "      <td>{'mag': 4.2, 'place': '7 km E of El Triunfo, E...</td>\n",
       "      <td>{'type': 'Point', 'coordinates': [-79.9032, -1...</td>\n",
       "      <td>us7000kb1e</td>\n",
       "    </tr>\n",
       "    <tr>\n",
       "      <th>3</th>\n",
       "      <td>Feature</td>\n",
       "      <td>{'mag': 5.3, 'place': '228 km S of Burica, Pan...</td>\n",
       "      <td>{'type': 'Point', 'coordinates': [-82.7326, 5....</td>\n",
       "      <td>us7000k9il</td>\n",
       "    </tr>\n",
       "    <tr>\n",
       "      <th>4</th>\n",
       "      <td>Feature</td>\n",
       "      <td>{'mag': 5, 'place': '36 km NE of Archidona, Ec...</td>\n",
       "      <td>{'type': 'Point', 'coordinates': [-77.5812, -0...</td>\n",
       "      <td>us7000k9bu</td>\n",
       "    </tr>\n",
       "    <tr>\n",
       "      <th>...</th>\n",
       "      <td>...</td>\n",
       "      <td>...</td>\n",
       "      <td>...</td>\n",
       "      <td>...</td>\n",
       "    </tr>\n",
       "    <tr>\n",
       "      <th>7319</th>\n",
       "      <td>Feature</td>\n",
       "      <td>{'mag': 4.5, 'place': '25 km SE of Puerto Berr...</td>\n",
       "      <td>{'type': 'Point', 'coordinates': [-74.248, 6.3...</td>\n",
       "      <td>usp000447z</td>\n",
       "    </tr>\n",
       "    <tr>\n",
       "      <th>7320</th>\n",
       "      <td>Feature</td>\n",
       "      <td>{'mag': 4.4, 'place': '20 km SSE of Tibú, Colo...</td>\n",
       "      <td>{'type': 'Point', 'coordinates': [-72.637, 8.4...</td>\n",
       "      <td>usp000445n</td>\n",
       "    </tr>\n",
       "    <tr>\n",
       "      <th>7321</th>\n",
       "      <td>Feature</td>\n",
       "      <td>{'mag': 5, 'place': '6 km NE of Jardín, Colomb...</td>\n",
       "      <td>{'type': 'Point', 'coordinates': [-75.784, 5.6...</td>\n",
       "      <td>usp000442c</td>\n",
       "    </tr>\n",
       "    <tr>\n",
       "      <th>7322</th>\n",
       "      <td>Feature</td>\n",
       "      <td>{'mag': 5, 'place': '15 km W of Papayal, Peru'...</td>\n",
       "      <td>{'type': 'Point', 'coordinates': [-80.877, -4....</td>\n",
       "      <td>usp00043xz</td>\n",
       "    </tr>\n",
       "    <tr>\n",
       "      <th>7323</th>\n",
       "      <td>Feature</td>\n",
       "      <td>{'mag': 5.3, 'place': '8 km NNW of Cepitá, Col...</td>\n",
       "      <td>{'type': 'Point', 'coordinates': [-72.995, 6.8...</td>\n",
       "      <td>usp00043tv</td>\n",
       "    </tr>\n",
       "  </tbody>\n",
       "</table>\n",
       "<p>7324 rows × 4 columns</p>\n",
       "</div>"
      ],
      "text/plain": [
       "         type                                         properties  \\\n",
       "0     Feature  {'mag': 5.1, 'place': 'near the coast of Ecuad...   \n",
       "1     Feature  {'mag': 4.5, 'place': 'northern Colombia', 'ti...   \n",
       "2     Feature  {'mag': 4.2, 'place': '7 km E of El Triunfo, E...   \n",
       "3     Feature  {'mag': 5.3, 'place': '228 km S of Burica, Pan...   \n",
       "4     Feature  {'mag': 5, 'place': '36 km NE of Archidona, Ec...   \n",
       "...       ...                                                ...   \n",
       "7319  Feature  {'mag': 4.5, 'place': '25 km SE of Puerto Berr...   \n",
       "7320  Feature  {'mag': 4.4, 'place': '20 km SSE of Tibú, Colo...   \n",
       "7321  Feature  {'mag': 5, 'place': '6 km NE of Jardín, Colomb...   \n",
       "7322  Feature  {'mag': 5, 'place': '15 km W of Papayal, Peru'...   \n",
       "7323  Feature  {'mag': 5.3, 'place': '8 km NNW of Cepitá, Col...   \n",
       "\n",
       "                                               geometry          id  \n",
       "0     {'type': 'Point', 'coordinates': [-79.9936, 0....  us6000knee  \n",
       "1     {'type': 'Point', 'coordinates': [-73.1563, 6....  us6000kndk  \n",
       "2     {'type': 'Point', 'coordinates': [-79.9032, -1...  us7000kb1e  \n",
       "3     {'type': 'Point', 'coordinates': [-82.7326, 5....  us7000k9il  \n",
       "4     {'type': 'Point', 'coordinates': [-77.5812, -0...  us7000k9bu  \n",
       "...                                                 ...         ...  \n",
       "7319  {'type': 'Point', 'coordinates': [-74.248, 6.3...  usp000447z  \n",
       "7320  {'type': 'Point', 'coordinates': [-72.637, 8.4...  usp000445n  \n",
       "7321  {'type': 'Point', 'coordinates': [-75.784, 5.6...  usp000442c  \n",
       "7322  {'type': 'Point', 'coordinates': [-80.877, -4....  usp00043xz  \n",
       "7323  {'type': 'Point', 'coordinates': [-72.995, 6.8...  usp00043tv  \n",
       "\n",
       "[7324 rows x 4 columns]"
      ]
     },
     "execution_count": 21,
     "metadata": {},
     "output_type": "execute_result"
    }
   ],
   "source": [
    "pd.DataFrame(response.json()['features'])"
   ]
  },
  {
   "cell_type": "code",
   "execution_count": 24,
   "metadata": {},
   "outputs": [
    {
     "data": {
      "text/plain": [
       "{'mag': 5.1,\n",
       " 'place': 'near the coast of Ecuador',\n",
       " 'time': 1687874848437,\n",
       " 'updated': 1687920295529,\n",
       " 'tz': None,\n",
       " 'url': 'https://earthquake.usgs.gov/earthquakes/eventpage/us6000knee',\n",
       " 'detail': 'https://earthquake.usgs.gov/fdsnws/event/1/query?eventid=us6000knee&format=geojson',\n",
       " 'felt': 4,\n",
       " 'cdi': 5.9,\n",
       " 'mmi': None,\n",
       " 'alert': None,\n",
       " 'status': 'reviewed',\n",
       " 'tsunami': 0,\n",
       " 'sig': 403,\n",
       " 'net': 'us',\n",
       " 'code': '6000knee',\n",
       " 'ids': ',us6000knee,',\n",
       " 'sources': ',us,',\n",
       " 'types': ',dyfi,origin,phase-data,',\n",
       " 'nst': 67,\n",
       " 'dmin': 0.942,\n",
       " 'rms': 0.93,\n",
       " 'gap': 142,\n",
       " 'magType': 'mww',\n",
       " 'type': 'earthquake',\n",
       " 'title': 'M 5.1 - near the coast of Ecuador'}"
      ]
     },
     "execution_count": 24,
     "metadata": {},
     "output_type": "execute_result"
    }
   ],
   "source": [
    "pd.DataFrame(response.json()['features']).properties.loc[0]"
   ]
  },
  {
   "cell_type": "code",
   "execution_count": 26,
   "metadata": {},
   "outputs": [
    {
     "data": {
      "text/plain": [
       "{'type': 'Point', 'coordinates': [-79.9936, 0.5791, 36.614]}"
      ]
     },
     "execution_count": 26,
     "metadata": {},
     "output_type": "execute_result"
    }
   ],
   "source": [
    "pd.DataFrame(response.json()['features']).geometry.loc[0]"
   ]
  },
  {
   "cell_type": "code",
   "execution_count": 29,
   "metadata": {},
   "outputs": [],
   "source": [
    "colombia = pd.read_json('https://www.datos.gov.co/resource/xdk5-pm3f.json?$query=SELECT%0A%20%20%60region%60%2C%0A%20%20%60c_digo_dane_del_departamento%60%2C%0A%20%20%60departamento%60%2C%0A%20%20%60c_digo_dane_del_municipio%60%2C%0A%20%20%60municipio%60')"
   ]
  },
  {
   "cell_type": "code",
   "execution_count": 35,
   "metadata": {},
   "outputs": [
    {
     "data": {
      "text/plain": [
       "33"
      ]
     },
     "execution_count": 35,
     "metadata": {},
     "output_type": "execute_result"
    }
   ],
   "source": [
    "colombia.departamento.unique()"
   ]
  }
 ],
 "metadata": {
  "kernelspec": {
   "display_name": "Python 3",
   "language": "python",
   "name": "python3"
  },
  "language_info": {
   "codemirror_mode": {
    "name": "ipython",
    "version": 3
   },
   "file_extension": ".py",
   "mimetype": "text/x-python",
   "name": "python",
   "nbconvert_exporter": "python",
   "pygments_lexer": "ipython3",
   "version": "3.11.3"
  },
  "orig_nbformat": 4
 },
 "nbformat": 4,
 "nbformat_minor": 2
}
