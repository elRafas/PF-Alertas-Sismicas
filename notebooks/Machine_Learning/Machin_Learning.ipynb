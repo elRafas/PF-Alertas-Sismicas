{
 "cells": [
  {
   "cell_type": "code",
   "execution_count": 23,
   "metadata": {},
   "outputs": [],
   "source": [
    "import os\n",
    "from google.cloud import bigquery\n",
    "from google.auth import default\n",
    "import pandas as pd\n",
    "\n",
    "\n",
    "# Creamos los permisos con la llave para ingresar a Google \n",
    "# activamos el servicio\n",
    "os.environ[\"GOOGLE_APPLICATION_CREDENTIALS\"] = \"../Clave_Google/henry-sismos-a343182ba163.json\"\n",
    "\n",
    "project_id = 'your-project-id'\n",
    "client = bigquery.Client(project=project_id)"
   ]
  },
  {
   "cell_type": "code",
   "execution_count": 24,
   "metadata": {},
   "outputs": [
    {
     "name": "stdout",
     "output_type": "stream",
     "text": [
      "henry-992@henry-sismos.iam.gserviceaccount.com\n"
     ]
    }
   ],
   "source": [
    "\n",
    "# Obtiene las credenciales predeterminadas\n",
    "credentials, project_id = default()\n",
    "\n",
    "# Obtiene el correo electrónico del usuario autenticado\n",
    "user_email = credentials.service_account_email\n",
    "\n",
    "print(user_email)"
   ]
  },
  {
   "cell_type": "code",
   "execution_count": 25,
   "metadata": {},
   "outputs": [
    {
     "data": {
      "text/plain": [
       "['henry-sismos']"
      ]
     },
     "execution_count": 25,
     "metadata": {},
     "output_type": "execute_result"
    }
   ],
   "source": [
    "\n",
    "# Crea una instancia del cliente de BigQuery\n",
    "client = bigquery.Client()\n",
    "\n",
    "# Obtiene la lista de proyectos del usuario autenticado\n",
    "projects = client.list_projects()\n",
    "\n",
    "# Imprime los nombres de los proyectos\n",
    "project_ids = []\n",
    "for project in projects:\n",
    "    project_ids.append(project.project_id) \n",
    "project_ids"
   ]
  },
  {
   "cell_type": "code",
   "execution_count": 26,
   "metadata": {},
   "outputs": [
    {
     "data": {
      "text/plain": [
       "['Sismos']"
      ]
     },
     "execution_count": 26,
     "metadata": {},
     "output_type": "execute_result"
    }
   ],
   "source": [
    "# Crea una instancia del cliente de BigQuery\n",
    "client = bigquery.Client()\n",
    "\n",
    "# Especifica el ID del proyecto\n",
    "project_id = project_ids[0]\n",
    "\n",
    "\n",
    "# Obtiene la lista de conjuntos de datos en el proyecto\n",
    "datasets = client.list_datasets(project=project_id)\n",
    "\n",
    "# Imprime los nombres de los conjuntos de datos\n",
    "dataset_ids = []\n",
    "for dataset in datasets:\n",
    "    dataset_ids.append(dataset.dataset_id)\n",
    "dataset_ids"
   ]
  },
  {
   "cell_type": "code",
   "execution_count": 27,
   "metadata": {},
   "outputs": [
    {
     "data": {
      "text/plain": [
       "['Colombia', 'Colombia_sismo', 'EEUU_sismo', 'Japan_sismo']"
      ]
     },
     "execution_count": 27,
     "metadata": {},
     "output_type": "execute_result"
    }
   ],
   "source": [
    "\n",
    "# Crea una instancia del cliente de BigQuery\n",
    "client = bigquery.Client(project=project_id)\n",
    "\n",
    "# Obtiene la referencia al conjunto de datos\n",
    "dataset_ref = client.dataset(dataset_ids[0])\n",
    "\n",
    "# Obtiene el conjunto de datos\n",
    "dataset = client.get_dataset(dataset_ref)\n",
    "\n",
    "# Obtiene la lista de tablas en el conjunto de datos\n",
    "tables = client.list_tables(dataset)\n",
    "\n",
    "# Imprime los nombres de las tablas\n",
    "\n",
    "table_ids = []\n",
    "for table in tables:\n",
    "    table_ids.append(table.table_id)\n",
    "table_ids"
   ]
  },
  {
   "cell_type": "code",
   "execution_count": 30,
   "metadata": {},
   "outputs": [
    {
     "name": "stdout",
     "output_type": "stream",
     "text": [
      "Creado el DataFrame de Colombia_sismo\n",
      "<class 'pandas.core.frame.DataFrame'>\n",
      "RangeIndex: 799 entries, 0 to 798\n",
      "Data columns (total 10 columns):\n",
      " #   Column      Non-Null Count  Dtype              \n",
      "---  ------      --------------  -----              \n",
      " 0   Fecha       799 non-null    datetime64[ns, UTC]\n",
      " 1   Magnitud    799 non-null    float64            \n",
      " 2   Intensidad  799 non-null    float64            \n",
      " 3   GAP         799 non-null    float64            \n",
      " 4   Latitud     799 non-null    float64            \n",
      " 5   Longitud    799 non-null    float64            \n",
      " 6   Lugar       799 non-null    object             \n",
      " 7   Id          799 non-null    object             \n",
      " 8   Region      799 non-null    object             \n",
      " 9   Pais        799 non-null    object             \n",
      "dtypes: datetime64[ns, UTC](1), float64(5), object(4)\n",
      "memory usage: 62.6+ KB\n",
      "None\n"
     ]
    },
    {
     "data": {
      "text/html": [
       "<div>\n",
       "<style scoped>\n",
       "    .dataframe tbody tr th:only-of-type {\n",
       "        vertical-align: middle;\n",
       "    }\n",
       "\n",
       "    .dataframe tbody tr th {\n",
       "        vertical-align: top;\n",
       "    }\n",
       "\n",
       "    .dataframe thead th {\n",
       "        text-align: right;\n",
       "    }\n",
       "</style>\n",
       "<table border=\"1\" class=\"dataframe\">\n",
       "  <thead>\n",
       "    <tr style=\"text-align: right;\">\n",
       "      <th></th>\n",
       "      <th>Fecha</th>\n",
       "      <th>Magnitud</th>\n",
       "      <th>Intensidad</th>\n",
       "      <th>GAP</th>\n",
       "      <th>Latitud</th>\n",
       "      <th>Longitud</th>\n",
       "      <th>Lugar</th>\n",
       "      <th>Id</th>\n",
       "      <th>Region</th>\n",
       "      <th>Pais</th>\n",
       "    </tr>\n",
       "  </thead>\n",
       "  <tbody>\n",
       "    <tr>\n",
       "      <th>0</th>\n",
       "      <td>2023-01-27 04:34:39.050000+00:00</td>\n",
       "      <td>4.5</td>\n",
       "      <td>4.7</td>\n",
       "      <td>59.0</td>\n",
       "      <td>5.0309</td>\n",
       "      <td>-76.2007</td>\n",
       "      <td>15 km NNE of San José del Palmar, Colombia</td>\n",
       "      <td>,us6000jjlq,</td>\n",
       "      <td>Choco</td>\n",
       "      <td>CO</td>\n",
       "    </tr>\n",
       "    <tr>\n",
       "      <th>1</th>\n",
       "      <td>2023-01-27 04:34:39.050000+00:00</td>\n",
       "      <td>4.5</td>\n",
       "      <td>4.7</td>\n",
       "      <td>59.0</td>\n",
       "      <td>5.0309</td>\n",
       "      <td>-76.2007</td>\n",
       "      <td>15 km NNE of San José del Palmar, Colombia</td>\n",
       "      <td>,us6000jjlq,</td>\n",
       "      <td>Choco</td>\n",
       "      <td>CO</td>\n",
       "    </tr>\n",
       "  </tbody>\n",
       "</table>\n",
       "</div>"
      ],
      "text/plain": [
       "                             Fecha  Magnitud  Intensidad   GAP  Latitud   \n",
       "0 2023-01-27 04:34:39.050000+00:00       4.5         4.7  59.0   5.0309  \\\n",
       "1 2023-01-27 04:34:39.050000+00:00       4.5         4.7  59.0   5.0309   \n",
       "\n",
       "   Longitud                                       Lugar            Id Region   \n",
       "0  -76.2007  15 km NNE of San José del Palmar, Colombia  ,us6000jjlq,  Choco  \\\n",
       "1  -76.2007  15 km NNE of San José del Palmar, Colombia  ,us6000jjlq,  Choco   \n",
       "\n",
       "  Pais  \n",
       "0   CO  \n",
       "1   CO  "
      ]
     },
     "execution_count": 30,
     "metadata": {},
     "output_type": "execute_result"
    }
   ],
   "source": [
    "# Creamos el DataFrame de  df_Colombia_sismo\n",
    "# Crea una instancia del cliente de BigQuery\n",
    "client = bigquery.Client(project= project_ids[0])\n",
    "\n",
    "# Especifica el ID del dataset\n",
    "dataset_id = dataset_ids[0]\n",
    "\n",
    "\n",
    "table_ref = dataset_ref.table(table_ids[1])\n",
    "# Descarga la tabla en un DataFrame\n",
    "table = client.get_table(table_ref)\n",
    "df_Colombia_sismo = client.list_rows(table).to_dataframe()\n",
    "            \n",
    "# Imprime las primeras filas del DataFrame\n",
    "print(f\"Creado el DataFrame de {table_ids[1]}\")\n",
    "print(df_Colombia_sismo.info())\n",
    "df_Colombia_sismo.head(2)\n",
    "\n",
    "\n"
   ]
  },
  {
   "cell_type": "code",
   "execution_count": 31,
   "metadata": {},
   "outputs": [
    {
     "name": "stdout",
     "output_type": "stream",
     "text": [
      "Creado el DataFrame de EEUU_sismo\n",
      "<class 'pandas.core.frame.DataFrame'>\n",
      "RangeIndex: 6955 entries, 0 to 6954\n",
      "Data columns (total 10 columns):\n",
      " #   Column      Non-Null Count  Dtype              \n",
      "---  ------      --------------  -----              \n",
      " 0   Fecha       6955 non-null   datetime64[ns, UTC]\n",
      " 1   Magnitud    6955 non-null   float64            \n",
      " 2   Intensidad  6955 non-null   float64            \n",
      " 3   GAP         6955 non-null   float64            \n",
      " 4   Latitud     6955 non-null   float64            \n",
      " 5   Longitud    6955 non-null   float64            \n",
      " 6   Lugar       6955 non-null   object             \n",
      " 7   Id          6955 non-null   object             \n",
      " 8   Region      6955 non-null   object             \n",
      " 9   Pais        6955 non-null   object             \n",
      "dtypes: datetime64[ns, UTC](1), float64(5), object(4)\n",
      "memory usage: 543.5+ KB\n",
      "None\n"
     ]
    },
    {
     "data": {
      "text/html": [
       "<div>\n",
       "<style scoped>\n",
       "    .dataframe tbody tr th:only-of-type {\n",
       "        vertical-align: middle;\n",
       "    }\n",
       "\n",
       "    .dataframe tbody tr th {\n",
       "        vertical-align: top;\n",
       "    }\n",
       "\n",
       "    .dataframe thead th {\n",
       "        text-align: right;\n",
       "    }\n",
       "</style>\n",
       "<table border=\"1\" class=\"dataframe\">\n",
       "  <thead>\n",
       "    <tr style=\"text-align: right;\">\n",
       "      <th></th>\n",
       "      <th>Fecha</th>\n",
       "      <th>Magnitud</th>\n",
       "      <th>Intensidad</th>\n",
       "      <th>GAP</th>\n",
       "      <th>Latitud</th>\n",
       "      <th>Longitud</th>\n",
       "      <th>Lugar</th>\n",
       "      <th>Id</th>\n",
       "      <th>Region</th>\n",
       "      <th>Pais</th>\n",
       "    </tr>\n",
       "  </thead>\n",
       "  <tbody>\n",
       "    <tr>\n",
       "      <th>0</th>\n",
       "      <td>2022-10-14 15:20:17.180000+00:00</td>\n",
       "      <td>2.85</td>\n",
       "      <td>0.0</td>\n",
       "      <td>64.0</td>\n",
       "      <td>19.455166</td>\n",
       "      <td>-155.601166</td>\n",
       "      <td>27 km E of Honaunau-Napoopoo, Hawaii</td>\n",
       "      <td>,hv73178542,us6000itnu,</td>\n",
       "      <td>Hawaii</td>\n",
       "      <td>US</td>\n",
       "    </tr>\n",
       "    <tr>\n",
       "      <th>1</th>\n",
       "      <td>2022-10-14 15:20:17.180000+00:00</td>\n",
       "      <td>2.85</td>\n",
       "      <td>0.0</td>\n",
       "      <td>64.0</td>\n",
       "      <td>19.455166</td>\n",
       "      <td>-155.601166</td>\n",
       "      <td>27 km E of Honaunau-Napoopoo, Hawaii</td>\n",
       "      <td>,hv73178542,us6000itnu,</td>\n",
       "      <td>Hawaii</td>\n",
       "      <td>US</td>\n",
       "    </tr>\n",
       "  </tbody>\n",
       "</table>\n",
       "</div>"
      ],
      "text/plain": [
       "                             Fecha  Magnitud  Intensidad   GAP    Latitud   \n",
       "0 2022-10-14 15:20:17.180000+00:00      2.85         0.0  64.0  19.455166  \\\n",
       "1 2022-10-14 15:20:17.180000+00:00      2.85         0.0  64.0  19.455166   \n",
       "\n",
       "     Longitud                                 Lugar                       Id   \n",
       "0 -155.601166  27 km E of Honaunau-Napoopoo, Hawaii  ,hv73178542,us6000itnu,  \\\n",
       "1 -155.601166  27 km E of Honaunau-Napoopoo, Hawaii  ,hv73178542,us6000itnu,   \n",
       "\n",
       "   Region Pais  \n",
       "0  Hawaii   US  \n",
       "1  Hawaii   US  "
      ]
     },
     "execution_count": 31,
     "metadata": {},
     "output_type": "execute_result"
    }
   ],
   "source": [
    "# Creamos el DataFrame de  df_EEUU_sismo\n",
    "# Crea una instancia del cliente de BigQuery\n",
    "client = bigquery.Client(project= project_ids[0])\n",
    "\n",
    "# Especifica el ID del dataset\n",
    "dataset_id = dataset_ids[0]\n",
    "\n",
    "\n",
    "table_ref = dataset_ref.table(table_ids[2])\n",
    "# Descarga la tabla en un DataFrame\n",
    "table = client.get_table(table_ref)\n",
    "df_EEUU_sismo = client.list_rows(table).to_dataframe()\n",
    "            \n",
    "# Imprime las primeras filas del DataFrame\n",
    "print(f\"Creado el DataFrame de {table_ids[2]}\")\n",
    "print(df_EEUU_sismo.info())\n",
    "df_EEUU_sismo.head(2)"
   ]
  },
  {
   "cell_type": "code",
   "execution_count": 32,
   "metadata": {},
   "outputs": [
    {
     "name": "stdout",
     "output_type": "stream",
     "text": [
      "Creado el DataFrame de Japan_sismo\n",
      "<class 'pandas.core.frame.DataFrame'>\n",
      "RangeIndex: 6072 entries, 0 to 6071\n",
      "Data columns (total 10 columns):\n",
      " #   Column      Non-Null Count  Dtype              \n",
      "---  ------      --------------  -----              \n",
      " 0   Fecha       6072 non-null   datetime64[ns, UTC]\n",
      " 1   Magnitud    6072 non-null   float64            \n",
      " 2   Intensidad  6072 non-null   float64            \n",
      " 3   GAP         6072 non-null   float64            \n",
      " 4   Latitud     6072 non-null   float64            \n",
      " 5   Longitud    6072 non-null   float64            \n",
      " 6   Lugar       6072 non-null   object             \n",
      " 7   Id          6072 non-null   object             \n",
      " 8   Region      6072 non-null   object             \n",
      " 9   Pais        6072 non-null   object             \n",
      "dtypes: datetime64[ns, UTC](1), float64(5), object(4)\n",
      "memory usage: 474.5+ KB\n",
      "None\n"
     ]
    },
    {
     "data": {
      "text/html": [
       "<div>\n",
       "<style scoped>\n",
       "    .dataframe tbody tr th:only-of-type {\n",
       "        vertical-align: middle;\n",
       "    }\n",
       "\n",
       "    .dataframe tbody tr th {\n",
       "        vertical-align: top;\n",
       "    }\n",
       "\n",
       "    .dataframe thead th {\n",
       "        text-align: right;\n",
       "    }\n",
       "</style>\n",
       "<table border=\"1\" class=\"dataframe\">\n",
       "  <thead>\n",
       "    <tr style=\"text-align: right;\">\n",
       "      <th></th>\n",
       "      <th>Fecha</th>\n",
       "      <th>Magnitud</th>\n",
       "      <th>Intensidad</th>\n",
       "      <th>GAP</th>\n",
       "      <th>Latitud</th>\n",
       "      <th>Longitud</th>\n",
       "      <th>Lugar</th>\n",
       "      <th>Id</th>\n",
       "      <th>Region</th>\n",
       "      <th>Pais</th>\n",
       "    </tr>\n",
       "  </thead>\n",
       "  <tbody>\n",
       "    <tr>\n",
       "      <th>0</th>\n",
       "      <td>2016-04-10 14:32:42.820000+00:00</td>\n",
       "      <td>4.0</td>\n",
       "      <td>2.4</td>\n",
       "      <td>137.0</td>\n",
       "      <td>36.0124</td>\n",
       "      <td>139.9229</td>\n",
       "      <td>4 km SSE of Iwai, Japan</td>\n",
       "      <td>,us20005gti,</td>\n",
       "      <td>Ibaraki</td>\n",
       "      <td>JP</td>\n",
       "    </tr>\n",
       "    <tr>\n",
       "      <th>1</th>\n",
       "      <td>2016-04-10 14:32:42.820000+00:00</td>\n",
       "      <td>4.0</td>\n",
       "      <td>2.4</td>\n",
       "      <td>137.0</td>\n",
       "      <td>36.0124</td>\n",
       "      <td>139.9229</td>\n",
       "      <td>4 km SSE of Iwai, Japan</td>\n",
       "      <td>,us20005gti,</td>\n",
       "      <td>Ibaraki</td>\n",
       "      <td>JP</td>\n",
       "    </tr>\n",
       "  </tbody>\n",
       "</table>\n",
       "</div>"
      ],
      "text/plain": [
       "                             Fecha  Magnitud  Intensidad    GAP  Latitud   \n",
       "0 2016-04-10 14:32:42.820000+00:00       4.0         2.4  137.0  36.0124  \\\n",
       "1 2016-04-10 14:32:42.820000+00:00       4.0         2.4  137.0  36.0124   \n",
       "\n",
       "   Longitud                    Lugar            Id   Region Pais  \n",
       "0  139.9229  4 km SSE of Iwai, Japan  ,us20005gti,  Ibaraki   JP  \n",
       "1  139.9229  4 km SSE of Iwai, Japan  ,us20005gti,  Ibaraki   JP  "
      ]
     },
     "execution_count": 32,
     "metadata": {},
     "output_type": "execute_result"
    }
   ],
   "source": [
    "# Creamos el DataFrame de  df_EEUU_sismo\n",
    "# Crea una instancia del cliente de BigQuery\n",
    "client = bigquery.Client(project= project_ids[0])\n",
    "\n",
    "# Especifica el ID del dataset\n",
    "dataset_id = dataset_ids[0]\n",
    "\n",
    "\n",
    "table_ref = dataset_ref.table(table_ids[3])\n",
    "# Descarga la tabla en un DataFrame\n",
    "table = client.get_table(table_ref)\n",
    "df_Japan_sismo = client.list_rows(table).to_dataframe()\n",
    "            \n",
    "# Imprime las primeras filas del DataFrame\n",
    "print(f\"Creado el DataFrame de {table_ids[3]}\")\n",
    "print(df_Japan_sismo.info())\n",
    "df_Japan_sismo.head(2)"
   ]
  }
 ],
 "metadata": {
  "kernelspec": {
   "display_name": "Python 3",
   "language": "python",
   "name": "python3"
  },
  "language_info": {
   "codemirror_mode": {
    "name": "ipython",
    "version": 3
   },
   "file_extension": ".py",
   "mimetype": "text/x-python",
   "name": "python",
   "nbconvert_exporter": "python",
   "pygments_lexer": "ipython3",
   "version": "3.11.3"
  },
  "orig_nbformat": 4
 },
 "nbformat": 4,
 "nbformat_minor": 2
}
