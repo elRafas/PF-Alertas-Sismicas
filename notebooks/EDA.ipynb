{
 "cells": [
  {
   "attachments": {},
   "cell_type": "markdown",
   "metadata": {},
   "source": [
    "# Colombia"
   ]
  },
  {
   "cell_type": "code",
   "execution_count": 4,
   "metadata": {},
   "outputs": [],
   "source": [
    "import requests\n",
    "import pandas as pd #\n",
    "import csv\n",
    "import datetime\n",
    "import seaborn as sns\n",
    "import matplotlib.pyplot as plt\n",
    "from unidecode import unidecode\n",
    "#from geopy.geocoders import Nominatim"
   ]
  },
  {
   "attachments": {},
   "cell_type": "markdown",
   "metadata": {},
   "source": [
    "# CDI\n",
    "En earthquake.usgs.gov, la sigla \"CDI\" se refiere a la escala de intensidad de agitación, también conocida como Community Internet Intensity Map (Mapa de Intensidad de Internet Comunitario). Esta escala se utiliza para medir la percepción y los efectos del terremoto en diferentes áreas geográficas, según los informes proporcionados por la comunidad en línea.<br> <br>\n",
    "\n",
    "La escala de intensidad de agitación (CDI) no tiene un valor máximo definido. En lugar de asignar un número máximo, utiliza una escala de descripciones cualitativas para categorizar la intensidad del terremoto en diferentes áreas. A continuación se muestra una versión simplificada de la escala de intensidad de agitación (CDI):<br><br>\n",
    "\n",
    "I. No se siente.<br>\n",
    "II. Se siente solamente por unas pocas personas en reposo, especialmente en los pisos altos de los edificios.<br>\n",
    "III. Se siente por algunas personas en el interior de los edificios. Las vibraciones se pueden comparar con la pasada de un camión ligero.<br>\n",
    "IV. Se siente en el interior de los edificios. Los objetos colgantes oscilan y las vibraciones se pueden comparar con el paso de un camión pesado.<br>\n",
    "V. Se siente por la mayoría de las personas dentro de los edificios. Los objetos colgantes oscilan considerablemente.<br>\n",
    "VI. Se siente por todas las personas. Los muebles se mueven y los objetos inestables pueden caerse. Los espejos y las ventanas vibran.<br>\n",
    "VII. Se siente por todas las personas. Muchos objetos se caen. Los muebles pueden ser desplazados. Los daños a los edificios no estructurales pueden ocurrir.<br>\n",
    "VIII. Se siente por todas las personas. Los edificios sufren daños leves a moderados. Las chimeneas pueden caerse.<br>\n",
    "IX. Se siente por todas las personas. Los edificios sufren daños moderados a severos. Los edificios de albañilería pueden colapsar parcialmente.<br>\n",
    "X. Se siente por todas las personas. Los edificios sufren daños severos. Los edificios de albañilería pueden colapsar.<br>\n",
    "XI. Pocos edificios permanecen en pie. Los puentes se destruyen. Las tuberías subterráneas se rompen.<br>\n",
    "XII. La destrucción total se produce. Ondulaciones en el suelo visibles. Los objetos son lanzados al aire.<br><br>\n",
    "La escala de intensidad de agitación (CDI) se basa en la percepción y los efectos reportados por las personas, por lo que puede variar según la ubicación y las condiciones locales.<br>"
   ]
  },
  {
   "attachments": {},
   "cell_type": "markdown",
   "metadata": {},
   "source": []
  },
  {
   "attachments": {},
   "cell_type": "markdown",
   "metadata": {},
   "source": [
    "# MAG\n",
    "La sigla \"MAG\" en earthquake.usgs.gov se refiere a la escala de magnitud de momento, también conocida como magnitud del momento sísmico. Esta escala es una medida cuantitativa de la energía liberada por un terremoto. A diferencia de la escala de Richter, que se basa en la amplitud de las ondas sísmicas, la escala de magnitud de momento tiene en cuenta la cantidad total de energía liberada por el terremoto a lo largo de toda su duración.\n",
    "\n",
    "El valor máximo en la escala de magnitud de momento no tiene un límite superior definido. A diferencia de la escala de Richter, que tiene un rango típico de 0 a 10, la escala de magnitud de momento no tiene restricciones teóricas en cuanto a su valor máximo. Esto significa que teóricamente podría haber terremotos con una magnitud de momento extremadamente alta.\n",
    "\n",
    "En la práctica, los terremotos más poderosos registrados en la historia han tenido magnitudes de momento superiores a 9.0. Un ejemplo notable es el terremoto de magnitud 9.5 ocurrido en Valdivia, Chile, en 1960, que es el terremoto más fuerte registrado hasta la fecha. Sin embargo, es importante destacar que la escala de magnitud de momento no es ampliamente utilizada para informar sobre la magnitud de los terremotos en el contexto general. La escala de Richter o la escala de magnitud de momento pueden variar dependiendo del sistema utilizado para su cálculo y el contexto específico de la información sísmica."
   ]
  },
  {
   "attachments": {},
   "cell_type": "markdown",
   "metadata": {},
   "source": [
    "Magnitud de Momento (MMS) | Descripción<br>\n",
    "Menos de 3.0 | Generalmente no se siente, pero se registra.<br>\n",
    "3.0 - 3.9 | A menudo se siente, pero rara vez causa daños.<br>\n",
    "4.0 - 4.9 | Sacude los objetos en las casas, pero rara vez causa daños.<br>\n",
    "5.0 - 5.9 | Puede causar daños significativos a edificios y estructuras.<br>\n",
    "6.0 - 6.9 | Puede ser un terremoto de gran alcance, pero ocurre raramente.<br>\n",
    "7.0 - 7.9 | Terremoto importante. Puede causar graves daños en áreas de varios kilómetros.<br>\n",
    "8.0 o mayor | Gran terremoto. Puede causar daños serios en áreas extensas.<br><br>\n",
    "\n",
    "Cabe destacar que esta tabla es solo una referencia general y los efectos reales de un terremoto pueden variar dependiendo de la ubicación geográfica, la profundidad del evento y otros factores.<br>"
   ]
  },
  {
   "attachments": {},
   "cell_type": "markdown",
   "metadata": {},
   "source": [
    "## GAP\n",
    "El valor de \"gap\" en un sismo se refiere al ángulo máximo entre las líneas de falla que están involucradas en la generación del terremoto. Es una medida que se utiliza para caracterizar la distribución espacial de los sismos y proporciona información sobre la geometría de la falla.<br><br>\n",
    "\n",
    "El gap se mide en grados y se calcula tomando en cuenta la ubicación de las estaciones sismológicas que registraron el evento y la diferencia en las llegadas de las ondas sísmicas P y S. El valor del gap puede variar entre 0 y 360 grados.<br><br>\n",
    "\n",
    "\n",
    "\n",
    "Interpretar el valor de gap en un sismo puede ser útil para determinar si la fuente sísmica se ha liberado completamente. Si el gap es cercano a cero, significa que el terremoto se originó en una falla casi vertical y que la fuente sísmica se ha liberado completamente. Por otro lado, si el gap es cercano a 180 grados, indica que el terremoto se originó en una falla casi horizontal y puede haber segmentos de la falla que aún no se han liberado.<br><br>\n",
    "\n",
    "Cuando el GAP es cercano a 0 grados, significa que la falla en esa región ha acumulado una gran cantidad de tensión y energía sísmica, pero aún no ha liberado esa energía en forma de un terremoto significativo. En otras palabras, indica que la falla ha estado \"atascada\" y no ha experimentado ruptura sísmica recientemente.<br><br>\n",
    "\n",
    "\n",
    "\n",
    "Un valor de GAP cercano a 180 grados sugiere que la falla ha experimentado una ruptura completa o parcial en el pasado reciente. Esto implica que la energía acumulada a lo largo de la falla se ha liberado a través de un terremoto significativo. En general, un GAP alto indica que la falla ha estado \"desatascada\" y ha tenido actividad sísmica reciente. <br><br>\n",
    "\n",
    "\n",
    "\n",
    "Un gap sísmico cercano a 360 grados indica que prácticamente toda la falla geológica en una región específica ha estado acumulando tensión y no ha liberado esa energía en forma de sismos. Esto puede ser una preocupación significativa, ya que sugiere que existe una alta probabilidad de que se produzca un sismo en el futuro cercano en esa área.<br><br>\n",
    "\n",
    "Si te estás refiriendo a un valor de GAP cercano a 360 grados, es importante aclarar que normalmente se considera un círculo completo como 360 grados. Por lo tanto, un GAP cercano a 360 grados sería equivalente a un GAP cercano a 0 grados. Ambos casos indicarían que la falla ha estado \"atascada\" y no ha experimentado una ruptura sísmica significativa.<br><br>\n",
    "\n",
    "\n",
    "En general, un gap grande (cerca de 180 grados) puede ser una indicación de que existe una parte de la falla que no ha experimentado ruptura y que podría estar acumulando estrés para un futuro terremoto. Sin embargo, es importante tener en cuenta que la interpretación del gap debe realizarse junto con otros parámetros sísmicos y geológicos para obtener una comprensión más completa de la situación tectónica y el potencial de futuros eventos sísmicos.<br><br>\n"
   ]
  },
  {
   "cell_type": "markdown",
   "metadata": {},
   "source": [
    "# EDA"
   ]
  },
  {
   "cell_type": "code",
   "execution_count": 5,
   "metadata": {},
   "outputs": [
    {
     "name": "stdout",
     "output_type": "stream",
     "text": [
      "<class 'pandas.core.frame.DataFrame'>\n",
      "RangeIndex: 13430 entries, 0 to 13429\n",
      "Data columns (total 10 columns):\n",
      " #   Column      Non-Null Count  Dtype  \n",
      "---  ------      --------------  -----  \n",
      " 0   Fecha       13430 non-null  object \n",
      " 1   Magnitud    13430 non-null  float64\n",
      " 2   Intensidad  13430 non-null  float64\n",
      " 3   GAP         13430 non-null  float64\n",
      " 4   Latitud     13430 non-null  float64\n",
      " 5   Longitud    13430 non-null  float64\n",
      " 6   Lugar       13430 non-null  object \n",
      " 7   Id          13430 non-null  object \n",
      " 8   Region      13430 non-null  object \n",
      " 9   Pais        13430 non-null  object \n",
      "dtypes: float64(5), object(5)\n",
      "memory usage: 1.0+ MB\n",
      "None\n"
     ]
    }
   ],
   "source": [
    "# Creamos data frame, con el csv de los países de Japan, Colombia y EEUU\n",
    "df_sismo = pd.read_csv('../DataSet/data_sismos_normalizado.csv') \n",
    "print(df_sismo.info())\n",
    "\n"
   ]
  },
  {
   "attachments": {},
   "cell_type": "markdown",
   "metadata": {},
   "source": [
    "### 1- Analizamos la descripción estadifica de los indicadores de magnitud, intensidad y GAP"
   ]
  },
  {
   "cell_type": "code",
   "execution_count": 6,
   "metadata": {},
   "outputs": [
    {
     "data": {
      "text/html": [
       "<div>\n",
       "<style scoped>\n",
       "    .dataframe tbody tr th:only-of-type {\n",
       "        vertical-align: middle;\n",
       "    }\n",
       "\n",
       "    .dataframe tbody tr th {\n",
       "        vertical-align: top;\n",
       "    }\n",
       "\n",
       "    .dataframe thead th {\n",
       "        text-align: right;\n",
       "    }\n",
       "</style>\n",
       "<table border=\"1\" class=\"dataframe\">\n",
       "  <thead>\n",
       "    <tr style=\"text-align: right;\">\n",
       "      <th></th>\n",
       "      <th>GAP</th>\n",
       "      <th>Magnitud</th>\n",
       "      <th>Intensidad</th>\n",
       "    </tr>\n",
       "  </thead>\n",
       "  <tbody>\n",
       "    <tr>\n",
       "      <th>count</th>\n",
       "      <td>13430.000000</td>\n",
       "      <td>13430.000000</td>\n",
       "      <td>13430.000000</td>\n",
       "    </tr>\n",
       "    <tr>\n",
       "      <th>mean</th>\n",
       "      <td>91.841914</td>\n",
       "      <td>3.933710</td>\n",
       "      <td>2.780745</td>\n",
       "    </tr>\n",
       "    <tr>\n",
       "      <th>std</th>\n",
       "      <td>53.649882</td>\n",
       "      <td>1.009164</td>\n",
       "      <td>1.370995</td>\n",
       "    </tr>\n",
       "    <tr>\n",
       "      <th>min</th>\n",
       "      <td>8.000000</td>\n",
       "      <td>2.500000</td>\n",
       "      <td>0.000000</td>\n",
       "    </tr>\n",
       "    <tr>\n",
       "      <th>25%</th>\n",
       "      <td>51.527500</td>\n",
       "      <td>2.900000</td>\n",
       "      <td>2.000000</td>\n",
       "    </tr>\n",
       "    <tr>\n",
       "      <th>50%</th>\n",
       "      <td>82.000000</td>\n",
       "      <td>4.200000</td>\n",
       "      <td>2.700000</td>\n",
       "    </tr>\n",
       "    <tr>\n",
       "      <th>75%</th>\n",
       "      <td>124.000000</td>\n",
       "      <td>4.700000</td>\n",
       "      <td>3.800000</td>\n",
       "    </tr>\n",
       "    <tr>\n",
       "      <th>max</th>\n",
       "      <td>327.000000</td>\n",
       "      <td>9.100000</td>\n",
       "      <td>9.100000</td>\n",
       "    </tr>\n",
       "  </tbody>\n",
       "</table>\n",
       "</div>"
      ],
      "text/plain": [
       "                GAP      Magnitud    Intensidad\n",
       "count  13430.000000  13430.000000  13430.000000\n",
       "mean      91.841914      3.933710      2.780745\n",
       "std       53.649882      1.009164      1.370995\n",
       "min        8.000000      2.500000      0.000000\n",
       "25%       51.527500      2.900000      2.000000\n",
       "50%       82.000000      4.200000      2.700000\n",
       "75%      124.000000      4.700000      3.800000\n",
       "max      327.000000      9.100000      9.100000"
      ]
     },
     "execution_count": 6,
     "metadata": {},
     "output_type": "execute_result"
    }
   ],
   "source": [
    "df_sismo[['GAP', 'Magnitud', 'Intensidad']].describe()\n"
   ]
  },
  {
   "cell_type": "code",
   "execution_count": 8,
   "metadata": {},
   "outputs": [
    {
     "data": {
      "text/plain": [
       "GAP           82.0\n",
       "Magnitud       4.2\n",
       "Intensidad     2.7\n",
       "dtype: float64"
      ]
     },
     "execution_count": 8,
     "metadata": {},
     "output_type": "execute_result"
    }
   ],
   "source": [
    "# Valor Medio o Mediana\n",
    "df_sismo[['GAP', 'Magnitud', 'Intensidad']].median()\n"
   ]
  },
  {
   "attachments": {},
   "cell_type": "markdown",
   "metadata": {},
   "source": [
    "### 2- Analizamos la correlación entre variables"
   ]
  },
  {
   "cell_type": "code",
   "execution_count": 9,
   "metadata": {},
   "outputs": [
    {
     "data": {
      "text/html": [
       "<style type=\"text/css\">\n",
       "#T_ff3e1_row0_col0, #T_ff3e1_row1_col1, #T_ff3e1_row2_col2 {\n",
       "  background-color: #b40426;\n",
       "  color: #f1f1f1;\n",
       "}\n",
       "#T_ff3e1_row0_col1, #T_ff3e1_row0_col2, #T_ff3e1_row2_col0 {\n",
       "  background-color: #3b4cc0;\n",
       "  color: #f1f1f1;\n",
       "}\n",
       "#T_ff3e1_row1_col0 {\n",
       "  background-color: #7699f6;\n",
       "  color: #f1f1f1;\n",
       "}\n",
       "#T_ff3e1_row1_col2 {\n",
       "  background-color: #bbd1f8;\n",
       "  color: #000000;\n",
       "}\n",
       "#T_ff3e1_row2_col1 {\n",
       "  background-color: #8badfd;\n",
       "  color: #000000;\n",
       "}\n",
       "</style>\n",
       "<table id=\"T_ff3e1\">\n",
       "  <thead>\n",
       "    <tr>\n",
       "      <th class=\"blank level0\" >&nbsp;</th>\n",
       "      <th id=\"T_ff3e1_level0_col0\" class=\"col_heading level0 col0\" >GAP</th>\n",
       "      <th id=\"T_ff3e1_level0_col1\" class=\"col_heading level0 col1\" >Magnitud</th>\n",
       "      <th id=\"T_ff3e1_level0_col2\" class=\"col_heading level0 col2\" >Intensidad</th>\n",
       "    </tr>\n",
       "  </thead>\n",
       "  <tbody>\n",
       "    <tr>\n",
       "      <th id=\"T_ff3e1_level0_row0\" class=\"row_heading level0 row0\" >GAP</th>\n",
       "      <td id=\"T_ff3e1_row0_col0\" class=\"data row0 col0\" >1.000000</td>\n",
       "      <td id=\"T_ff3e1_row0_col1\" class=\"data row0 col1\" >-0.073138</td>\n",
       "      <td id=\"T_ff3e1_row0_col2\" class=\"data row0 col2\" >-0.315623</td>\n",
       "    </tr>\n",
       "    <tr>\n",
       "      <th id=\"T_ff3e1_level0_row1\" class=\"row_heading level0 row1\" >Magnitud</th>\n",
       "      <td id=\"T_ff3e1_row1_col0\" class=\"data row1 col0\" >-0.073138</td>\n",
       "      <td id=\"T_ff3e1_row1_col1\" class=\"data row1 col1\" >1.000000</td>\n",
       "      <td id=\"T_ff3e1_row1_col2\" class=\"data row1 col2\" >0.189813</td>\n",
       "    </tr>\n",
       "    <tr>\n",
       "      <th id=\"T_ff3e1_level0_row2\" class=\"row_heading level0 row2\" >Intensidad</th>\n",
       "      <td id=\"T_ff3e1_row2_col0\" class=\"data row2 col0\" >-0.315623</td>\n",
       "      <td id=\"T_ff3e1_row2_col1\" class=\"data row2 col1\" >0.189813</td>\n",
       "      <td id=\"T_ff3e1_row2_col2\" class=\"data row2 col2\" >1.000000</td>\n",
       "    </tr>\n",
       "  </tbody>\n",
       "</table>\n"
      ],
      "text/plain": [
       "<pandas.io.formats.style.Styler at 0x1da2e9cec10>"
      ]
     },
     "execution_count": 9,
     "metadata": {},
     "output_type": "execute_result"
    }
   ],
   "source": [
    "df_houses = df_sismo[['GAP', 'Magnitud', 'Intensidad']]\n",
    "corr = df_houses.corr()\n",
    "corr.style.background_gradient(cmap=\"coolwarm\")\n"
   ]
  },
  {
   "cell_type": "code",
   "execution_count": 10,
   "metadata": {},
   "outputs": [
    {
     "data": {
      "image/png": "[encoded data removed]",
      "text/plain": [
       "<Figure size 640x480 with 2 Axes>"
      ]
     },
     "metadata": {},
     "output_type": "display_data"
    }
   ],
   "source": [
    "corr = df_houses.corr()\n",
    "sns.heatmap(corr, \n",
    "        xticklabels=corr.columns,\n",
    "        yticklabels=corr.columns,\n",
    "        annot=True);"
   ]
  },
  {
   "attachments": {},
   "cell_type": "markdown",
   "metadata": {},
   "source": [
    "### 3- Analizamos la escala de resultados de cada uno de los indicadores GAP, Magnitud y Intensidad  "
   ]
  },
  {
   "cell_type": "code",
   "execution_count": 11,
   "metadata": {},
   "outputs": [
    {
     "data": {
      "image/png": "[encoded data removed]",
      "text/plain": [
       "<Figure size 640x480 with 1 Axes>"
      ]
     },
     "metadata": {},
     "output_type": "display_data"
    }
   ],
   "source": [
    "# GAP\n",
    "sns.histplot(data=df_houses, x= 'GAP')\n",
    "plt.show()"
   ]
  },
  {
   "cell_type": "code",
   "execution_count": 12,
   "metadata": {},
   "outputs": [
    {
     "data": {
      "image/png": "[encoded data removed]",
      "text/plain": [
       "<Figure size 640x480 with 1 Axes>"
      ]
     },
     "metadata": {},
     "output_type": "display_data"
    }
   ],
   "source": [
    "# Magnitud\n",
    "sns.histplot(data=df_houses, x= 'Magnitud')\n",
    "plt.show()"
   ]
  },
  {
   "cell_type": "code",
   "execution_count": 14,
   "metadata": {},
   "outputs": [
    {
     "data": {
      "image/png": "[encoded data removed]",
      "text/plain": [
       "<Figure size 640x480 with 1 Axes>"
      ]
     },
     "metadata": {},
     "output_type": "display_data"
    }
   ],
   "source": [
    "# Intensidad\n",
    "sns.histplot(data=df_houses, x= 'Intensidad')\n",
    "plt.show()"
   ]
  },
  {
   "attachments": {},
   "cell_type": "markdown",
   "metadata": {},
   "source": [
    "### 4- outlier o atípico\n",
    "Los datos presentados en cada uno de los indicadores, están ajustados dentro de los valore de escala en cada uno de ellos \n",
    "- GAP entre 0 y 360 Grados\n",
    "- Intensidad entre 0 y 12\n",
    "- Magnitud su escala inicia en 0 - sin techo. Su rango típico seria de 1 - 10 y el mayor valor registrado en la historia fue en Chile 1960 con un 9.0  \n",
    "\n",
    "Por lo anterior se podría determinar que no tenemos outlier\n"
   ]
  }
 ],
 "metadata": {
  "kernelspec": {
   "display_name": "Python 3",
   "language": "python",
   "name": "python3"
  },
  "language_info": {
   "codemirror_mode": {
    "name": "ipython",
    "version": 3
   },
   "file_extension": ".py",
   "mimetype": "text/x-python",
   "name": "python",
   "nbconvert_exporter": "python",
   "pygments_lexer": "ipython3",
   "version": "3.11.3"
  },
  "orig_nbformat": 4
 },
 "nbformat": 4,
 "nbformat_minor": 2
}
